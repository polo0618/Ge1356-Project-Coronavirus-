{
 "cells": [
  {
   "cell_type": "code",
   "execution_count": 11,
   "metadata": {},
   "outputs": [],
   "source": [
    "from datetime import timedelta\n",
    "import numpy as np\n",
    "import pandas as pd\n",
    "import warnings\n",
    "warnings.filterwarnings('ignore')"
   ]
  },
  {
   "cell_type": "markdown",
   "metadata": {},
   "source": [
    "# Full table preprocessed"
   ]
  },
  {
   "cell_type": "code",
   "execution_count": 12,
   "metadata": {
    "scrolled": true
   },
   "outputs": [],
   "source": [
    "fds = pd.read_csv('/Users/polotailokyin/Desktop/GE1356/Project/data_collected/corona-virus-report/covid_19_clean_complete.csv',\n",
    "                         parse_dates=['Date'])\n",
    "ship_rows = fds['Province/State'].str.contains('Grand Princess') | fds['Province/State'].str.contains('Diamond Princess') | fds['Country/Region'].str.contains('Diamond Princess') | fds['Country/Region'].str.contains('MS Zaandam')\n",
    "ship = fds[ship_rows]\n",
    "fds = fds[~(ship_rows)]\n",
    "fds['Active'] = fds['Confirmed'] - fds['Deaths'] - fds['Recovered']\n",
    "fds[['Province/State']] = fds[['Province/State']].fillna('')\n",
    "fds[['Confirmed', 'Deaths', 'Recovered', 'Active']] = fds[['Confirmed', 'Deaths', 'Recovered', 'Active']].fillna(0)\n",
    "fds['Recovered'] = fds['Recovered'].astype(int)\n",
    "\n",
    "fds.to_csv('full_preprocessed.csv', index=False)"
   ]
  },
  {
   "cell_type": "markdown",
   "metadata": {},
   "source": [
    "# Date and country"
   ]
  },
  {
   "cell_type": "code",
   "execution_count": 14,
   "metadata": {},
   "outputs": [],
   "source": [
    "fgdc = fds.groupby(['Date', 'Country/Region'])['Confirmed', 'Deaths', 'Recovered', 'Active'].sum().reset_index()\n",
    "t = fgdc.groupby(['Country/Region', 'Date', ])['Confirmed', 'Deaths', 'Recovered']\n",
    "t = t.sum().diff().reset_index()\n",
    "m = t['Country/Region'] != t['Country/Region'].shift(1)\n",
    "t.loc[m, 'Confirmed'] = np.nan\n",
    "t.loc[m, 'Deaths'] = np.nan\n",
    "t.loc[m, 'Recovered'] = np.nan\n",
    "t.columns = ['Country/Region', 'Date', 'New cases', 'New deaths', 'New recovered']\n",
    "fgdc = pd.merge(fgdc, t, on=['Country/Region', 'Date'])\n",
    "fgdc = fgdc.fillna(0)\n",
    "c = ['New cases', 'New deaths', 'New recovered']\n",
    "fgdc[c] = fgdc[c].astype('int')\n",
    "fgdc['New cases'] = fgdc['New cases'].apply(lambda x: 0 if x<0 else x)\n",
    "\n",
    "fgdc[\"Date\"]\n",
    "fgdc.to_csv('date.csv')"
   ]
  },
  {
   "cell_type": "markdown",
   "metadata": {},
   "source": [
    "# Day"
   ]
  },
  {
   "cell_type": "code",
   "execution_count": 4,
   "metadata": {},
   "outputs": [],
   "source": [
    "d = fgdc.groupby('Date')['Confirmed', 'Deaths', 'Recovered', 'Active', 'New cases'].sum().reset_index()\n",
    "d['Deaths / 100 Cases'] = round((d['Deaths']/d['Confirmed'])*100, 2)\n",
    "d['Recovered / 100 Cases'] = round((d['Recovered']/d['Confirmed'])*100, 2)\n",
    "d['Deaths / 100 Recovered'] = round((d['Deaths']/d['Recovered'])*100, 2)\n",
    "d['No. of countries'] = fgdc[fgdc['Confirmed']!=0].groupby('Date')['Country/Region'].unique().apply(len).values\n",
    "cols = ['Deaths / 100 Cases', 'Recovered / 100 Cases', 'Deaths / 100 Recovered']\n",
    "d[cols] = d[cols].fillna(0)\n",
    "\n",
    "d.to_csv('day.csv')"
   ]
  },
  {
   "cell_type": "markdown",
   "metadata": {},
   "source": [
    "# Country"
   ]
  },
  {
   "cell_type": "code",
   "execution_count": 5,
   "metadata": {},
   "outputs": [],
   "source": [
    "cw = fgdc[fgdc['Date']==max(fgdc['Date'])].reset_index(drop=True).drop('Date', axis=1)\n",
    "cw = cw.groupby('Country/Region')['Confirmed', 'Deaths', 'Recovered', 'Active', 'New cases'].sum().reset_index()\n",
    "cw['Deaths / 100 Cases'] = round((cw['Deaths']/cw['Confirmed'])*100, 2)\n",
    "cw['Recovered / 100 Cases'] = round((cw['Recovered']/cw['Confirmed'])*100, 2)\n",
    "cw['Deaths / 100 Recovered'] = round((cw['Deaths']/cw['Recovered'])*100, 2)\n",
    "cols = ['Deaths / 100 Cases', 'Recovered / 100 Cases', 'Deaths / 100 Recovered']\n",
    "cw[cols] = cw[cols].fillna(0)\n",
    "pop = pd.read_csv(\"/Users/polotailokyin/Desktop/GE1356/Project/data_collected/population-by-country/population_by_country_2020.csv\")\n",
    "pop = pop.iloc[:, :2]\n",
    "pop.columns = ['Country/Region', 'Population']\n",
    "cw = pd.merge(cw, pop, on='Country/Region', how='left')\n",
    "cols = ['Burma', 'Congo (Brazzaville)', 'Congo (Kinshasa)', \"Cote d'Ivoire\", 'Czechia',\n",
    "        'Kosovo', 'Saint Kitts and Nevis', 'Saint Vincent and the Grenadines',\n",
    "        'Taiwan*', 'US', 'West Bank and Gaza']\n",
    "pops = [54409800, 89561403, 5518087, 26378274, 10708981, 1793000,\n",
    "        53109, 110854, 23806638, 330541757, 4543126]\n",
    "for c, p in zip(cols, pops):\n",
    "    cw.loc[cw['Country/Region']== c, 'Population'] = p\n",
    "cw['Cases / Million People'] = round((cw['Confirmed'] / cw['Population']) * 1000000)\n",
    "today = fgdc[fgdc['Date']==max(fgdc['Date'])].reset_index(drop=True).drop('Date', axis=1)[['Country/Region', 'Confirmed']]\n",
    "last_week = fgdc[fgdc['Date']==max(fgdc['Date'])-timedelta(days=7)].reset_index(drop=True).drop('Date', axis=1)[['Country/Region', 'Confirmed']]\n",
    "t = pd.merge(today, last_week, on='Country/Region', suffixes=(' today', ' last week'))\n",
    "t['1 week change'] = t['Confirmed today'] - t['Confirmed last week']\n",
    "t = t[['Country/Region', 'Confirmed last week', '1 week change']]\n",
    "cw = pd.merge(cw, t, on='Country/Region')\n",
    "cw['1 week % increase'] = round(cw['1 week change']/cw['Confirmed last week']*100, 2)\n",
    "\n",
    "cw.to_csv('country.csv')"
   ]
  },
  {
   "cell_type": "code",
   "execution_count": null,
   "metadata": {},
   "outputs": [],
   "source": []
  }
 ],
 "metadata": {
  "kernelspec": {
   "display_name": "Python 3",
   "language": "python",
   "name": "python3"
  },
  "language_info": {
   "codemirror_mode": {
    "name": "ipython",
    "version": 3
   },
   "file_extension": ".py",
   "mimetype": "text/x-python",
   "name": "python",
   "nbconvert_exporter": "python",
   "pygments_lexer": "ipython3",
   "version": "3.7.4"
  }
 },
 "nbformat": 4,
 "nbformat_minor": 2
}
